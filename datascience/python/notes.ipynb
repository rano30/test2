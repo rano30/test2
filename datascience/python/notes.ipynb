{
 "cells": [
  {
   "cell_type": "code",
   "execution_count": 1,
   "id": "f1cc7bd1",
   "metadata": {},
   "outputs": [
    {
     "data": {
      "text/plain": [
       "1"
      ]
     },
     "execution_count": 1,
     "metadata": {},
     "output_type": "execute_result"
    }
   ],
   "source": [
    "list1= [3, 4, 5] #basic list\n",
    "len(list1) #gives us the amount of items in the list, items are seperated by commas\n",
    "list3 = [1] \n",
    "len(list3)"
   ]
  },
  {
   "cell_type": "code",
   "execution_count": 2,
   "id": "b87a0ac3",
   "metadata": {},
   "outputs": [
    {
     "data": {
      "text/plain": [
       "3"
      ]
     },
     "execution_count": 2,
     "metadata": {},
     "output_type": "execute_result"
    }
   ],
   "source": [
    "min(list1) #shows the lowest value in the list"
   ]
  },
  {
   "cell_type": "code",
   "execution_count": 3,
   "id": "c640fcaa",
   "metadata": {},
   "outputs": [
    {
     "data": {
      "text/plain": [
       "5"
      ]
     },
     "execution_count": 3,
     "metadata": {},
     "output_type": "execute_result"
    }
   ],
   "source": [
    "max(list1) #shows the highest value in the list"
   ]
  },
  {
   "cell_type": "code",
   "execution_count": 4,
   "id": "69ffa783",
   "metadata": {},
   "outputs": [
    {
     "data": {
      "text/plain": [
       "12"
      ]
     },
     "execution_count": 4,
     "metadata": {},
     "output_type": "execute_result"
    }
   ],
   "source": [
    "sum(list1) #adds all the values in the list (3 + 4 + 5)"
   ]
  },
  {
   "cell_type": "code",
   "execution_count": 5,
   "id": "720bc1fc",
   "metadata": {},
   "outputs": [
    {
     "data": {
      "text/plain": [
       "'hihihi'"
      ]
     },
     "execution_count": 5,
     "metadata": {},
     "output_type": "execute_result"
    }
   ],
   "source": [
    "'hi' *3 #makes a string of 3 'hi' together"
   ]
  },
  {
   "cell_type": "code",
   "execution_count": 6,
   "id": "9687467f",
   "metadata": {},
   "outputs": [
    {
     "data": {
      "text/plain": [
       "5"
      ]
     },
     "execution_count": 6,
     "metadata": {},
     "output_type": "execute_result"
    }
   ],
   "source": [
    "'abcd'[-1] #choose index 2 of the sequence\n",
    "list1[-1]"
   ]
  },
  {
   "cell_type": "code",
   "execution_count": 7,
   "id": "b780e2fa",
   "metadata": {},
   "outputs": [
    {
     "name": "stdout",
     "output_type": "stream",
     "text": [
      "[3, 4, 5, 8]\n"
     ]
    }
   ],
   "source": [
    "list1.append(8) #adds value 8 to list\n",
    "print(list1)"
   ]
  },
  {
   "cell_type": "code",
   "execution_count": 8,
   "id": "4352ea75",
   "metadata": {},
   "outputs": [
    {
     "name": "stdout",
     "output_type": "stream",
     "text": [
      "[3, 4, 5, 8, 10]\n"
     ]
    }
   ],
   "source": [
    "list1.append(10)\n",
    "print(list1)"
   ]
  },
  {
   "cell_type": "code",
   "execution_count": 9,
   "id": "23fd031c",
   "metadata": {},
   "outputs": [
    {
     "data": {
      "text/plain": [
       "'13'"
      ]
     },
     "execution_count": 9,
     "metadata": {},
     "output_type": "execute_result"
    }
   ],
   "source": [
    "s = '12345'\n",
    "s[2:4]\n",
    "s[:4:2]"
   ]
  },
  {
   "cell_type": "code",
   "execution_count": 10,
   "id": "ccad4bb7",
   "metadata": {},
   "outputs": [
    {
     "name": "stdout",
     "output_type": "stream",
     "text": [
      "[3, 4, 5, 8, 10, 0]\n",
      "[3, 4, 5, 8, 10, 0, 1]\n",
      "[3, 4, 5, 8, 10, 0, 1, 2]\n",
      "[3, 4, 5, 8, 10, 0, 1, 2, 3]\n",
      "[3, 4, 5, 8, 10, 0, 1, 2, 3, 4]\n",
      "[3, 4, 5, 8, 10, 0, 1, 2, 3, 4, 5]\n",
      "[3, 4, 5, 8, 10, 0, 1, 2, 3, 4, 5, 6]\n",
      "[3, 4, 5, 8, 10, 0, 1, 2, 3, 4, 5, 6, 7]\n",
      "[3, 4, 5, 8, 10, 0, 1, 2, 3, 4, 5, 6, 7, 8]\n",
      "[3, 4, 5, 8, 10, 0, 1, 2, 3, 4, 5, 6, 7, 8, 9]\n"
     ]
    }
   ],
   "source": [
    "for n in range(10): #iterates through range of 10 (0-9)\n",
    "    list1.append(n) #adds values to the list\n",
    "    print(list1)"
   ]
  },
  {
   "cell_type": "code",
   "execution_count": 12,
   "id": "117f2c94",
   "metadata": {},
   "outputs": [
    {
     "name": "stdout",
     "output_type": "stream",
     "text": [
      "[3, 4, 5, 10, 0, 1, 2, 3, 4, 5, 6, 7, 8, 9, 0, 1, 2, 3, 4, 5, 6, 7, 8, 9]\n"
     ]
    }
   ],
   "source": [
    "list1.remove(8) #removes value 8\n",
    "print(list1)"
   ]
  },
  {
   "cell_type": "code",
   "execution_count": 12,
   "id": "130526a8",
   "metadata": {},
   "outputs": [
    {
     "name": "stdout",
     "output_type": "stream",
     "text": [
      "[4, 5, 10, 0, 1, 2, 3, 4, 5, 6, 7, 8, 9]\n"
     ]
    }
   ],
   "source": [
    "list1.remove(3)\n",
    "print(list1)"
   ]
  },
  {
   "cell_type": "code",
   "execution_count": 13,
   "id": "af304019",
   "metadata": {},
   "outputs": [
    {
     "name": "stdout",
     "output_type": "stream",
     "text": [
      "[4, 5, 10, 0, 1, 2, 3, 4, 5, 6, 7, 8, 9, -1, -2]\n"
     ]
    }
   ],
   "source": [
    "list2 = [-1, -2]\n",
    "list1.extend(list2) #extends our list with the list2. \n",
    "print(list1)"
   ]
  },
  {
   "cell_type": "code",
   "execution_count": 11,
   "id": "1a403a15",
   "metadata": {},
   "outputs": [
    {
     "name": "stdout",
     "output_type": "stream",
     "text": [
      "[3, 4, 5, 0, 1, 2, 3, 4, 5, 6, 7, 9, -1]\n"
     ]
    }
   ],
   "source": [
    "list1.pop() #removes the last element in the list (-2)\n",
    "print(list1)"
   ]
  },
  {
   "cell_type": "code",
   "execution_count": 12,
   "id": "5f6be325",
   "metadata": {},
   "outputs": [
    {
     "name": "stdout",
     "output_type": "stream",
     "text": [
      "[-1, 9, 7, 6, 5, 4, 3, 2, 1, 0, 5, 4, 3]\n"
     ]
    }
   ],
   "source": [
    "list1.reverse() #puts the list in a reverse order\n",
    "print(list1)"
   ]
  },
  {
   "cell_type": "code",
   "execution_count": 13,
   "id": "d6c687d7",
   "metadata": {},
   "outputs": [
    {
     "name": "stdout",
     "output_type": "stream",
     "text": [
      "[-1, 0, 1, 2, 3, 3, 4, 4, 5, 5, 6, 7, 9]\n"
     ]
    }
   ],
   "source": [
    "list1.sort() #sorts the values in the list\n",
    "print(list1)"
   ]
  },
  {
   "cell_type": "code",
   "execution_count": 14,
   "id": "920d48e7",
   "metadata": {},
   "outputs": [
    {
     "name": "stdout",
     "output_type": "stream",
     "text": [
      "0\n",
      "1\n",
      "2\n",
      "range(0, 3)\n"
     ]
    }
   ],
   "source": [
    "L = range(3) #assigns variable L to a range of 3 \n",
    "for i in L: #for statement to get items in L\n",
    "    print(i) #prints each item/value in L, which is range of 3 (0, 1, 2)  **since it starts with the value 0 \n",
    "    #to get a range of 3 values you only need to go up to 2, not 3. \n",
    "print(L)"
   ]
  },
  {
   "cell_type": "code",
   "execution_count": 15,
   "id": "48609dec",
   "metadata": {},
   "outputs": [
    {
     "data": {
      "text/plain": [
       "2"
      ]
     },
     "execution_count": 15,
     "metadata": {},
     "output_type": "execute_result"
    }
   ],
   "source": [
    "L[-1] #grabs the index -1 (the last item) in the sequence"
   ]
  },
  {
   "cell_type": "code",
   "execution_count": 16,
   "id": "b164293b",
   "metadata": {},
   "outputs": [
    {
     "name": "stdout",
     "output_type": "stream",
     "text": [
      "[0, 1, 2, 3, 4, 5, 6, 7, 8, 9]\n"
     ]
    }
   ],
   "source": [
    "L=range(10) #sets variable L to range of 10\n",
    "print(list(L)) #makes the variable L into a list. "
   ]
  },
  {
   "cell_type": "code",
   "execution_count": 19,
   "id": "50f54cd7",
   "metadata": {},
   "outputs": [
    {
     "name": "stdout",
     "output_type": "stream",
     "text": [
      "[0, 2, 4, 6]\n",
      "[0, 3, 6, 9]\n"
     ]
    }
   ],
   "source": [
    "print(list(range(0, 7, 2))) #this can be a bit confusing but it's taking the slice 0:7 and only grabbing every 2nd item\n",
    " #the 2 is known as the step\n",
    "print(list(range(0, 10, 3))) #this one is grabbing every 3rd value from 0:10\n"
   ]
  },
  {
   "cell_type": "code",
   "execution_count": 20,
   "id": "15e39d4b",
   "metadata": {},
   "outputs": [
    {
     "name": "stdout",
     "output_type": "stream",
     "text": [
      "[1, 3, 5, 7]\n",
      "[1, 3, 6, 6, 7]\n",
      "[6, 1, 7, 3, 6]\n",
      "[1, 3, 5, 7]\n",
      "[6, 1, 7, 3, 6]\n"
     ]
    }
   ],
   "source": [
    "L=[5,3,7,1]\n",
    "L.sort()      # here we call the sort method of the object L\n",
    "print(L)\n",
    "L2=[6,1,7,3,6]\n",
    "print(sorted(L2))\n",
    "print(L2)\n",
    "print(L)\n",
    "print(L2)"
   ]
  },
  {
   "cell_type": "code",
   "execution_count": 21,
   "id": "35f0514e",
   "metadata": {},
   "outputs": [
    {
     "name": "stdout",
     "output_type": "stream",
     "text": [
      "[7, 5, 3, 1]\n",
      "[1, 3, 5, 7]\n",
      "[1, 3, 5, 7]\n"
     ]
    }
   ],
   "source": [
    "L=[5,3,7,1]\n",
    "print(sorted(L, reverse=True)) #just reverses the sort/sorted to going reverse in values, if you put reverse=False it's\n",
    "#it will put them back from smallest to largest\n",
    "print(sorted(L, reverse=False))\n",
    "print(sorted(L))"
   ]
  },
  {
   "cell_type": "code",
   "execution_count": 12,
   "id": "9f080bf8",
   "metadata": {},
   "outputs": [
    {
     "name": "stdout",
     "output_type": "stream",
     "text": [
      "Help on method_descriptor:\n",
      "\n",
      "keys(...)\n",
      "    D.keys() -> a set-like object providing a view on D's keys\n",
      "\n"
     ]
    }
   ],
   "source": [
    "help(dict.keys)"
   ]
  },
  {
   "cell_type": "code",
   "execution_count": 13,
   "id": "91782db1",
   "metadata": {},
   "outputs": [
    {
     "data": {
      "text/plain": [
       "str"
      ]
     },
     "execution_count": 13,
     "metadata": {},
     "output_type": "execute_result"
    }
   ],
   "source": [
    "type('hello')"
   ]
  },
  {
   "cell_type": "code",
   "execution_count": 14,
   "id": "c131b59b",
   "metadata": {},
   "outputs": [
    {
     "data": {
      "text/plain": [
       "int"
      ]
     },
     "execution_count": 14,
     "metadata": {},
     "output_type": "execute_result"
    }
   ],
   "source": [
    "type(1)"
   ]
  },
  {
   "cell_type": "code",
   "execution_count": 15,
   "id": "2d38e09c",
   "metadata": {},
   "outputs": [
    {
     "data": {
      "text/plain": [
       "str"
      ]
     },
     "execution_count": 15,
     "metadata": {},
     "output_type": "execute_result"
    }
   ],
   "source": [
    "type('1')"
   ]
  },
  {
   "cell_type": "code",
   "execution_count": 16,
   "id": "18182a10",
   "metadata": {},
   "outputs": [
    {
     "data": {
      "text/plain": [
       "float"
      ]
     },
     "execution_count": 16,
     "metadata": {},
     "output_type": "execute_result"
    }
   ],
   "source": [
    "type(1.0)"
   ]
  },
  {
   "cell_type": "code",
   "execution_count": 17,
   "id": "2a046ebf",
   "metadata": {},
   "outputs": [
    {
     "data": {
      "text/plain": [
       "str"
      ]
     },
     "execution_count": 17,
     "metadata": {},
     "output_type": "execute_result"
    }
   ],
   "source": [
    "type('1.0')"
   ]
  },
  {
   "cell_type": "code",
   "execution_count": 18,
   "id": "251b73c0",
   "metadata": {},
   "outputs": [
    {
     "data": {
      "text/plain": [
       "int"
      ]
     },
     "execution_count": 18,
     "metadata": {},
     "output_type": "execute_result"
    }
   ],
   "source": [
    "type(2)"
   ]
  },
  {
   "cell_type": "code",
   "execution_count": 19,
   "id": "d56f4b53",
   "metadata": {},
   "outputs": [
    {
     "data": {
      "text/plain": [
       "2.0"
      ]
     },
     "execution_count": 19,
     "metadata": {},
     "output_type": "execute_result"
    }
   ],
   "source": [
    "float(2)"
   ]
  },
  {
   "cell_type": "code",
   "execution_count": 21,
   "id": "99b46266",
   "metadata": {},
   "outputs": [],
   "source": [
    "import math"
   ]
  },
  {
   "cell_type": "code",
   "execution_count": 22,
   "id": "46e641ec",
   "metadata": {},
   "outputs": [
    {
     "name": "stdout",
     "output_type": "stream",
     "text": [
      "1\n"
     ]
    }
   ],
   "source": [
    "print('1')"
   ]
  },
  {
   "cell_type": "code",
   "execution_count": 24,
   "id": "42c3d972",
   "metadata": {},
   "outputs": [
    {
     "ename": "SyntaxError",
     "evalue": "invalid syntax (<ipython-input-24-c0c39cd17199>, line 1)",
     "output_type": "error",
     "traceback": [
      "\u001b[1;36m  File \u001b[1;32m\"<ipython-input-24-c0c39cd17199>\"\u001b[1;36m, line \u001b[1;32m1\u001b[0m\n\u001b[1;33m    def hello(4):\u001b[0m\n\u001b[1;37m              ^\u001b[0m\n\u001b[1;31mSyntaxError\u001b[0m\u001b[1;31m:\u001b[0m invalid syntax\n"
     ]
    }
   ],
   "source": [
    "def hello(4):\n",
    "\n",
    "print(hello)"
   ]
  },
  {
   "cell_type": "code",
   "execution_count": null,
   "id": "56b42ef6",
   "metadata": {},
   "outputs": [],
   "source": []
  }
 ],
 "metadata": {
  "kernelspec": {
   "display_name": "Python 3",
   "language": "python",
   "name": "python3"
  },
  "language_info": {
   "codemirror_mode": {
    "name": "ipython",
    "version": 3
   },
   "file_extension": ".py",
   "mimetype": "text/x-python",
   "name": "python",
   "nbconvert_exporter": "python",
   "pygments_lexer": "ipython3",
   "version": "3.8.8"
  }
 },
 "nbformat": 4,
 "nbformat_minor": 5
}
