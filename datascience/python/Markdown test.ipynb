{
 "cells": [
  {
   "cell_type": "markdown",
   "id": "2924c812",
   "metadata": {},
   "source": [
    "can be used to add text. \n",
    "* apple \n",
    "  * fruit\n",
    "    * red\n",
    "\n",
    "1. fruit\n",
    "   - strawberry\n",
    "      - seeds\n",
    "         - yum\n",
    "         \n",
    "A quote:\n",
    "> Hello it's Reed. This [link](https://commonmark.org/help/tutorial/10-nestedLists.html) was useful!\n",
    "# header 1\n",
    "## header 2\n",
    "### header 3\n",
    "\\*asterisk that doesn't bold\\*\\\n",
    "\\\\$5"
   ]
  },
  {
   "cell_type": "code",
   "execution_count": null,
   "id": "f9516337",
   "metadata": {},
   "outputs": [],
   "source": []
  }
 ],
 "metadata": {
  "kernelspec": {
   "display_name": "Python 3 (ipykernel)",
   "language": "python",
   "name": "python3"
  },
  "language_info": {
   "codemirror_mode": {
    "name": "ipython",
    "version": 3
   },
   "file_extension": ".py",
   "mimetype": "text/x-python",
   "name": "python",
   "nbconvert_exporter": "python",
   "pygments_lexer": "ipython3",
   "version": "3.9.7"
  }
 },
 "nbformat": 4,
 "nbformat_minor": 5
}
